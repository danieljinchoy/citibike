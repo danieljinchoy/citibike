{
 "cells": [
  {
   "cell_type": "code",
   "execution_count": null,
   "metadata": {},
   "outputs": [],
   "source": [
    "import numpy as np\n",
    "import pandas as pd\n",
    "import matplotlib.pyplot as plt\n",
    "import plotly.express as px\n",
    "import plotly.graph_objects as go\n",
    "import random\n",
    "import time\n",
    "px.set_mapbox_access_token(open('/Users/bkuo/Local Documents/Bootcamp 2020/Project/Capstone/CitiBikeCapStone/EDA/mapbox_token.txt').read())"
   ]
  },
  {
   "cell_type": "code",
   "execution_count": null,
   "metadata": {},
   "outputs": [],
   "source": [
    "# # sampling from original data source\n",
    "\n",
    "# start_time = time.time()\n",
    "\n",
    "# p = 0.1  # 10% of the lines\n",
    "# # keep the header, then take only 10% of lines\n",
    "# # if random from [0,1] interval is greater than 0.1 the row will be skipped\n",
    "# tripdata_dwn = pd.read_csv(\n",
    "#          '/Users/bkuo/Local Documents/Bootcamp 2020/Project/Capstone/CitiBikeCapStone/Data/Trip data/riders_cleaned.csv.gz',\n",
    "#          compression='gzip',         \n",
    "#          skiprows=lambda i: i>0 and random.random() > p\n",
    "# )\n",
    "\n",
    "# print(\"--- %s seconds ---\" % (time.time() - start_time))"
   ]
  },
  {
   "cell_type": "code",
   "execution_count": null,
   "metadata": {},
   "outputs": [],
   "source": [
    "tripdata_dwn = pd.read_csv('/Users/bkuo/Local Documents/Bootcamp 2020/Project/Capstone/CitiBikeCapStone/Data/Trip data/downsampled_rider.csv.gz', compression='gzip')\n"
   ]
  },
  {
   "cell_type": "code",
   "execution_count": null,
   "metadata": {},
   "outputs": [],
   "source": [
    "tripdata_dwn.columns"
   ]
  },
  {
   "cell_type": "code",
   "execution_count": null,
   "metadata": {},
   "outputs": [],
   "source": [
    "tripdata_dwn.head()"
   ]
  },
  {
   "cell_type": "code",
   "execution_count": null,
   "metadata": {},
   "outputs": [],
   "source": [
    "tripdata_dwn.describe()"
   ]
  },
  {
   "cell_type": "code",
   "execution_count": null,
   "metadata": {},
   "outputs": [],
   "source": [
    "tripdata_dwn.info()"
   ]
  },
  {
   "cell_type": "code",
   "execution_count": null,
   "metadata": {
    "scrolled": false
   },
   "outputs": [],
   "source": [
    "tripdata_dwn.isna().sum()"
   ]
  },
  {
   "cell_type": "code",
   "execution_count": null,
   "metadata": {},
   "outputs": [],
   "source": [
    "# making a copy of original sample\n",
    "tripdata = tripdata_dwn.copy() "
   ]
  },
  {
   "cell_type": "code",
   "execution_count": null,
   "metadata": {},
   "outputs": [],
   "source": [
    "# clean birth year\n",
    "tripdata['birth year'] = tripdata['birth year'].fillna(0)\n",
    "tripdata[tripdata['birth year'] == '\\\\N'] = 0\n",
    "tripdata['birth year'] = tripdata['birth year'].astype(float).astype(int) #can't pass float in string to int"
   ]
  },
  {
   "cell_type": "code",
   "execution_count": null,
   "metadata": {
    "scrolled": true
   },
   "outputs": [],
   "source": [
    "# adding some more features\n",
    "tripdata.starttime = pd.to_datetime(tripdata['starttime'])\n",
    "tripdata.stoptime = pd.to_datetime(tripdata['stoptime'])\n",
    "tripdata['age'] = [2020 - yr if yr != 0 else yr for yr in tripdata['birth year']]\n",
    "tripdata['peak'] = [1 if p > 5 and p < 20 else 0 for p in tripdata.start_hour ]\n",
    "tripdata.info()"
   ]
  },
  {
   "cell_type": "code",
   "execution_count": null,
   "metadata": {},
   "outputs": [],
   "source": [
    "tripdata.columns"
   ]
  },
  {
   "cell_type": "code",
   "execution_count": null,
   "metadata": {
    "scrolled": true
   },
   "outputs": [],
   "source": [
    "df = tripdata\n",
    "\n",
    "\n",
    "fig = px.scatter_matrix(df,\n",
    "    dimensions=['tripduration', 'gender' ,'dayofweek', 'age', 'peak'])\n",
    "fig.show()"
   ]
  },
  {
   "cell_type": "code",
   "execution_count": null,
   "metadata": {},
   "outputs": [],
   "source": [
    "# getting distinct lat lon using average by stations\n",
    "s_lat_lon = tripdata[['start station name', 'start station id','start station latitude', 'start station longitude']]\n",
    "s_lat_lon = s_lat_lon.drop_duplicates().rename(columns = {'start station name':'station', 'start station id':'station_id','start station latitude':'latitude', \n",
    "                            'start station longitude':'longitude'})\n",
    "e_lat_lon = tripdata[['end station name', 'end station id', 'end station latitude', 'end station longitude']]\n",
    "e_lat_lon = e_lat_lon.drop_duplicates().rename(columns = {'end station name':'station', 'end station id':'station_id','end station latitude':'latitude', \n",
    "                            'end station longitude':'longitude'})\n",
    "\n",
    "stn_lat_lon = pd.concat([s_lat_lon, e_lat_lon]).drop_duplicates()\n",
    "stn_lat_lon = stn_lat_lon.groupby(['station', 'station_id']).mean().reset_index()\n",
    "stn_lat_lon = stn_lat_lon[stn_lat_lon['station'].str.contains(\"temporarily removed\") == False]\n",
    "stn_lat_lon = stn_lat_lon[stn_lat_lon['station'] != 0]"
   ]
  },
  {
   "cell_type": "code",
   "execution_count": null,
   "metadata": {
    "scrolled": false
   },
   "outputs": [],
   "source": [
    "# df = stn_lat_lon\n",
    "# neighborhood = px.scatter_mapbox(df, lat=\"latitude\", lon=\"longitude\", color=\"station\",\n",
    "#                         color_continuous_scale=px.colors.cyclical.IceFire,size_max=15, zoom=10)\n",
    "# neighborhood.show()"
   ]
  },
  {
   "cell_type": "code",
   "execution_count": null,
   "metadata": {
    "scrolled": true
   },
   "outputs": [],
   "source": [
    "present_stations = pd.DataFrame(tripdata.groupby(['start station id', 'start station name'])\\\n",
    "                                                 ['tripduration'].count())\n",
    "present_stations = pd.merge(stn_lat_lon, \n",
    "                            present_stations, \n",
    "                            left_on = ['station', 'station_id'], \n",
    "                            right_on = ['start station name','start station id'], \n",
    "                            how = 'left').reset_index()\n",
    "present_stations = present_stations.rename(columns = {'tripduration': 'ride_num'})\n",
    "present_stations['ride_num'] = present_stations['ride_num'].fillna(0)\n",
    "\n",
    "present_stations.head()\n"
   ]
  },
  {
   "cell_type": "code",
   "execution_count": null,
   "metadata": {
    "scrolled": true
   },
   "outputs": [],
   "source": [
    "# issue: same id/coordinate with different name\n",
    "tripdata[tripdata['start station id'] == 504]\\\n",
    "    [['start station id', 'start station name', 'start station latitude',\n",
    "       'start station longitude']].drop_duplicates()"
   ]
  },
  {
   "cell_type": "code",
   "execution_count": null,
   "metadata": {},
   "outputs": [],
   "source": [
    "# setting map color scale:\n",
    "colorscale = [\n",
    "[0, 'rgb(38, 53, 113)'], \n",
    "[0.5, 'rgb(57, 162, 225)'],\n",
    "[1, 'rgb(234, 32, 41)']\n",
    "]"
   ]
  },
  {
   "cell_type": "code",
   "execution_count": null,
   "metadata": {},
   "outputs": [],
   "source": [
    "# starting station demand\n",
    "df = present_stations\n",
    "plot = px.scatter_mapbox(df, \n",
    "                         lat = \"latitude\", \n",
    "                         lon = \"longitude\", \n",
    "                         color = \"ride_num\",\n",
    "                         hover_name = \"station\", \n",
    "                         color_continuous_scale=colorscale, \n",
    "                         size_max=2,                         \n",
    "                         zoom=10)\n",
    "# animation_frame=\"year\", animation_group=\"country\"\n",
    "\n",
    "\n",
    "\n",
    "plot.show()"
   ]
  },
  {
   "cell_type": "code",
   "execution_count": null,
   "metadata": {},
   "outputs": [],
   "source": [
    "present_stations_hr = pd.DataFrame(tripdata.groupby(\n",
    "                              ['start station id', 'start station name', 'start_hour'])\\\n",
    "                              ['tripduration'].count()).reset_index()\n",
    "present_stations_hr = pd.merge(stn_lat_lon, \n",
    "                            present_stations_hr, \n",
    "                            left_on = ['station', 'station_id'], \n",
    "                            right_on = ['start station name','start station id'], \n",
    "                            how = 'left')\n",
    "\n",
    "present_stations_hr = present_stations_hr.rename(columns = {'tripduration': 'ride_num'})\n",
    "present_stations_hr = present_stations_hr[present_stations_hr['start station id'].isna() == False]\n",
    "\n",
    "present_stations_hr.describe()"
   ]
  },
  {
   "cell_type": "code",
   "execution_count": null,
   "metadata": {
    "scrolled": false
   },
   "outputs": [],
   "source": [
    "# starting station demand by hour\n",
    "df = present_stations_hr\n",
    "plot = px.scatter_mapbox(df, \n",
    "                         lat = \"latitude\", \n",
    "                         lon = \"longitude\", \n",
    "                         color = \"ride_num\",\n",
    "                         hover_name = \"station\", \n",
    "                         labels={\"ride_num\": \"Ride Number\", \"start_hour\":\"Start Hour\"},\n",
    "                         color_continuous_scale = colorscale,#px.colors.diverging.Temps, \n",
    "                         size_max=15,   \n",
    "                         animation_frame=\"start_hour\",\n",
    "                         animation_group=\"ride_num\",\n",
    "                         color_continuous_midpoint = 500,\n",
    "                         zoom=10) \n",
    "# plot.update_layout(\n",
    "# #     title=\"Plot Title\",\n",
    "# #     xaxis_title=\"X Axis Title\",\n",
    "# #     yaxis_title=\"Y Axis Title\",\n",
    "#     legend_title=\"Ride Number\",\n",
    "# #     font=dict(\n",
    "# #         family=\"Courier New, monospace\",\n",
    "# #         size=18,\n",
    "# #         color=\"RebeccaPurple\"\n",
    "#     )\n",
    "plot.show()"
   ]
  },
  {
   "cell_type": "code",
   "execution_count": null,
   "metadata": {},
   "outputs": [],
   "source": [
    "present_stations_hr2 = pd.DataFrame(tripdata.groupby(\n",
    "                              ['end station id', 'end station name', 'stop_hour'])\\\n",
    "                              ['tripduration'].count()).reset_index()\n",
    "present_stations_hr2 = pd.merge(stn_lat_lon, \n",
    "                            present_stations_hr2, \n",
    "                            left_on = ['station', 'station_id'], \n",
    "                            right_on = ['end station name','end station id'], \n",
    "                            how = 'left')\n",
    "\n",
    "present_stations_hr2 = present_stations_hr2.rename(columns = {'tripduration': 'ride_num'})\n",
    "present_stations_hr2 = present_stations_hr2[present_stations_hr2['end station id'].isna() == False]\n",
    "\n",
    "present_stations_hr2.head()"
   ]
  },
  {
   "cell_type": "code",
   "execution_count": null,
   "metadata": {},
   "outputs": [],
   "source": [
    "# starting station demand by hour\n",
    "df = present_stations_hr2\n",
    "plot = px.scatter_mapbox(df, \n",
    "                         lat = \"latitude\", \n",
    "                         lon = \"longitude\", \n",
    "                         color = \"ride_num\",\n",
    "                         hover_name = \"station\", \n",
    "                         color_continuous_scale = colorscale,#px.colors.diverging.Temps, \n",
    "                         size_max=15,   \n",
    "                         animation_frame=\"stop_hour\",\n",
    "                         animation_group=\"ride_num\",\n",
    "#                          color_continuous_midpoint = 500,\n",
    "                         zoom=10) \n",
    "plot.show()"
   ]
  },
  {
   "cell_type": "code",
   "execution_count": null,
   "metadata": {
    "scrolled": false
   },
   "outputs": [],
   "source": [
    "# station pairs: single biggest pair is central park& 6 ave!\n",
    "stn_pair = tripdata.groupby(['start station name', 'end station name'])['tripduration'].count()\n",
    "stn_pair = pd.DataFrame(stn_pair).rename(columns = {'tripduration':'count'})\n",
    "stn_pair = stn_pair.reset_index()\n",
    "stn_pair = stn_pair[stn_pair['start station name'] != 0].sort_values('count', ascending = False)\n",
    "stn_pair.head(20)"
   ]
  },
  {
   "cell_type": "code",
   "execution_count": null,
   "metadata": {},
   "outputs": [],
   "source": [
    "print(stn_pair.describe())\n",
    "print(stn_pair.head(int(stn_pair.shape[0]*.25)).describe())\n",
    "print(stn_pair.head(int(stn_pair.shape[0]*.10)).describe())\n",
    "print(stn_pair.head(int(stn_pair.shape[0]*.05)).describe())\n",
    "print(stn_pair.head(int(stn_pair.shape[0]*.005)).describe())"
   ]
  },
  {
   "cell_type": "code",
   "execution_count": null,
   "metadata": {
    "scrolled": false
   },
   "outputs": [],
   "source": [
    "# busiest dow by season\n",
    "import seaborn as sns\n",
    "\n",
    "sns.set(rc={'figure.figsize':(12,8)})\n",
    "hmap = tripdata.groupby(['season', 'dayofweek'])['tripduration'].count().reset_index()\n",
    "hmap = hmap.rename(columns = {'tripduration':'demand'})\n",
    "hmap = hmap.pivot('season', 'dayofweek', 'demand')\n",
    "hmap\n",
    "ax = sns.heatmap(hmap)\n",
    "\n",
    "\n",
    "sns.set(rc={'axes.facecolor':'#f3f3f3', 'figure.facecolor':'#f3f3f3'})\n",
    "colors = [\"#39a2e1\", \"#263571\", \"#ea2029\"]\n",
    "sns.set_palette(sns.color_palette(colors))\n"
   ]
  },
  {
   "cell_type": "code",
   "execution_count": null,
   "metadata": {},
   "outputs": [],
   "source": [
    "# busiest time by dow\n",
    "\n",
    "hmap = tripdata.groupby(['start_hour', 'dayofweek'])['tripduration'].count().reset_index()\n",
    "hmap = hmap.rename(columns = {'tripduration':'demand'})\n",
    "hmap = hmap.pivot('start_hour', 'dayofweek', 'demand')\n",
    "ax = sns.heatmap(hmap)\n"
   ]
  },
  {
   "cell_type": "code",
   "execution_count": null,
   "metadata": {},
   "outputs": [],
   "source": [
    "# ride count by seasons\n",
    "df = pd.DataFrame(tripdata.groupby(['start_hour','season'])['tripduration'].count().reset_index())\n",
    "df = df.rename(columns = {'tripduration': 'ride_num'})\n",
    "df = df[df['season'] != 0]\n",
    "fig = px.line(df, x=\"start_hour\", y=\"ride_num\", color = 'season',\n",
    "                 title=\"Ride Count by Hour by Seasons\")\n",
    "fig.update_layout(hovermode=\"x unified\")\n",
    "\n",
    "fig.show()"
   ]
  },
  {
   "cell_type": "code",
   "execution_count": null,
   "metadata": {
    "scrolled": false
   },
   "outputs": [],
   "source": [
    "# df = pd.DataFrame(tripdata.groupby(['start_hour','season'])['tripduration'].count().reset_index())\n",
    "# df = df.rename(columns = {'tripduration': 'ride_num'})\n",
    "df = tripdata[tripdata.season != 0]\n",
    "df['trip_mins'] = df.tripduration/60\n",
    "df = df.groupby('season').median()\n",
    "fig = px.bar(df, x= df.index, y=\"trip_mins\",\n",
    "                 title=\"Riding Length by Season\")\n",
    "fig.update_layout(hovermode=\"x unified\")\n",
    "\n",
    "fig.show()"
   ]
  },
  {
   "cell_type": "code",
   "execution_count": null,
   "metadata": {
    "scrolled": false
   },
   "outputs": [],
   "source": [
    "# ride time by age and gender... but age>80~100 seems strange\n",
    "df = tripdata[tripdata.age != 0]\n",
    "df = df[tripdata.gender != 0]\n",
    "df['trip_mins'] = df.tripduration/60\n",
    "df = df.groupby(['age', 'gender']).median().reset_index()\n",
    "fig = px.bar(df, x='age', y=\"trip_mins\", color = 'gender',\n",
    "                 title=\"Ride Time by Age and Gender\")\n",
    "fig.update_layout(hovermode=\"x unified\")\n",
    "\n",
    "fig.show()"
   ]
  },
  {
   "cell_type": "code",
   "execution_count": null,
   "metadata": {},
   "outputs": [],
   "source": [
    "# same graph as above, but only ages <100 and only look at genders with available data\n",
    "df = tripdata[tripdata.age != 0]\n",
    "df = df[tripdata.age < 100]\n",
    "df = df[tripdata.gender != 0]\n",
    "df['trip_mins'] = df.tripduration/60\n",
    "df = df.groupby(['age', 'gender']).median().reset_index()\n",
    "fig = px.bar(df, x='age', y=\"trip_mins\", color = 'gender', barmode = 'overlay',\n",
    "                 title=\"Ride Time by Age and Gender\")\n",
    "fig.update_layout(hovermode=\"x unified\")\n",
    "\n",
    "fig.show()"
   ]
  },
  {
   "cell_type": "code",
   "execution_count": null,
   "metadata": {
    "scrolled": false
   },
   "outputs": [],
   "source": [
    "# overall riding trend through the years\n",
    "df = tripdata[tripdata.year > 2010]\n",
    "df = df.groupby([pd.Grouper(key=\"starttime\", freq=\"M\"),'season'])['tripduration'].count().reset_index()\n",
    "df = df.rename(columns = {'tripduration': 'ride_num', 'starttime':'time'})\n",
    "fig = px.line(df, x=\"time\", y=\"ride_num\", #color = 'season',\n",
    "                 title=\"Demand Trend\")\n",
    "fig.update_layout(hovermode=\"x unified\")\n",
    "\n",
    "\n",
    "fig.show()"
   ]
  },
  {
   "cell_type": "code",
   "execution_count": null,
   "metadata": {},
   "outputs": [],
   "source": [
    "# overall riding trend through the years with season\n",
    "df = tripdata[tripdata.year > 2010]\n",
    "df = df.groupby([pd.Grouper(key=\"starttime\", freq=\"M\"),'season'])['tripduration'].count().reset_index()\n",
    "df = df.rename(columns = {'tripduration': 'ride_num', 'starttime': 'time'})\n",
    "fig = px.bar(df, x=\"time\", y=\"ride_num\", color = 'season',\n",
    "                 title=\"Demand Trend\")\n",
    "fig.update_layout(hovermode=\"x unified\")\n",
    "\n",
    "fig.show()"
   ]
  }
 ],
 "metadata": {
  "kernelspec": {
   "display_name": "Python 3",
   "language": "python",
   "name": "python3"
  },
  "language_info": {
   "codemirror_mode": {
    "name": "ipython",
    "version": 3
   },
   "file_extension": ".py",
   "mimetype": "text/x-python",
   "name": "python",
   "nbconvert_exporter": "python",
   "pygments_lexer": "ipython3",
   "version": "3.6.8"
  },
  "toc": {
   "base_numbering": 1,
   "nav_menu": {},
   "number_sections": false,
   "sideBar": true,
   "skip_h1_title": false,
   "title_cell": "Table of Contents",
   "title_sidebar": "Contents",
   "toc_cell": false,
   "toc_position": {},
   "toc_section_display": true,
   "toc_window_display": false
  }
 },
 "nbformat": 4,
 "nbformat_minor": 2
}
